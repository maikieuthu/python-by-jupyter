{
 "cells": [
  {
   "cell_type": "code",
   "execution_count": null,
   "id": "c7231b76",
   "metadata": {},
   "outputs": [],
   "source": [
    "#RGBA= RED, GREEN, BLUE, ALPHA (0>255)"
   ]
  },
  {
   "cell_type": "code",
   "execution_count": 23,
   "id": "c769183e",
   "metadata": {},
   "outputs": [
    {
     "data": {
      "image/png": "[encoded data removed]",
      "text/plain": [
       "<PIL.JpegImagePlugin.JpegImageFile image mode=RGB size=200x200 at 0x1D46AF46400>"
      ]
     },
     "execution_count": 23,
     "metadata": {},
     "output_type": "execute_result"
    }
   ],
   "source": [
    "from PIL import Image\n",
    "red=Image.open(\"red_color.jpg\")\n",
    "red"
   ]
  },
  {
   "cell_type": "code",
   "execution_count": 103,
   "id": "3b5f1c02",
   "metadata": {},
   "outputs": [
    {
     "data": {
      "image/png": "[encoded data removed]",
      "text/plain": [
       "<PIL.JpegImagePlugin.JpegImageFile image mode=RGB size=225x225 at 0x1D46BBD8EE0>"
      ]
     },
     "execution_count": 103,
     "metadata": {},
     "output_type": "execute_result"
    }
   ],
   "source": [
    "blue= Image.open(\"111.jpg\")\n",
    "blue"
   ]
  },
  {
   "cell_type": "code",
   "execution_count": 105,
   "id": "766dfde3",
   "metadata": {},
   "outputs": [
    {
     "data": {
      "image/png": "[encoded data removed]",
      "text/plain": [
       "<PIL.JpegImagePlugin.JpegImageFile image mode=RGBA size=225x225 at 0x1D46BBD8EE0>"
      ]
     },
     "execution_count": 105,
     "metadata": {},
     "output_type": "execute_result"
    }
   ],
   "source": [
    "blue.putalpha(100)\n",
    "blue"
   ]
  },
  {
   "cell_type": "code",
   "execution_count": 114,
   "id": "0894d4f0",
   "metadata": {},
   "outputs": [
    {
     "data": {
      "image/png": "[encoded data removed]",
      "text/plain": [
       "<PIL.JpegImagePlugin.JpegImageFile image mode=RGBA size=225x225 at 0x1D46BBD8EE0>"
      ]
     },
     "execution_count": 114,
     "metadata": {},
     "output_type": "execute_result"
    }
   ],
   "source": [
    "blue.paste(red,(0,0),red)\n",
    "blue"
   ]
  }
 ],
 "metadata": {
  "kernelspec": {
   "display_name": "Python 3 (ipykernel)",
   "language": "python",
   "name": "python3"
  },
  "language_info": {
   "codemirror_mode": {
    "name": "ipython",
    "version": 3
   },
   "file_extension": ".py",
   "mimetype": "text/x-python",
   "name": "python",
   "nbconvert_exporter": "python",
   "pygments_lexer": "ipython3",
   "version": "3.9.12"
  }
 },
 "nbformat": 4,
 "nbformat_minor": 5
}
