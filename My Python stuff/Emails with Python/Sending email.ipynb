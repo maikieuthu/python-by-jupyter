{
 "cells": [
  {
   "cell_type": "code",
   "execution_count": 10,
   "id": "e5c9498b",
   "metadata": {},
   "outputs": [
    {
     "name": "stdout",
     "output_type": "stream",
     "text": [
      "Enter your email:········\n",
      "Enter the recipient's email:········\n",
      "Enter your title: fsfas\n",
      "Enter your body message: ffaaf\n"
     ]
    },
    {
     "ename": "NameError",
     "evalue": "name 'smtp_object' is not defined",
     "output_type": "error",
     "traceback": [
      "\u001b[1;31m---------------------------------------------------------------------------\u001b[0m",
      "\u001b[1;31mNameError\u001b[0m                                 Traceback (most recent call last)",
      "Input \u001b[1;32mIn [10]\u001b[0m, in \u001b[0;36m<cell line: 8>\u001b[1;34m()\u001b[0m\n\u001b[0;32m      6\u001b[0m subject \u001b[38;5;241m=\u001b[39m \u001b[38;5;28minput\u001b[39m(\u001b[38;5;124m\"\u001b[39m\u001b[38;5;124mEnter your body message: \u001b[39m\u001b[38;5;124m\"\u001b[39m)\n\u001b[0;32m      7\u001b[0m msg \u001b[38;5;241m=\u001b[39m \u001b[38;5;124m\"\u001b[39m\u001b[38;5;124mTitle:\u001b[39m\u001b[38;5;124m\"\u001b[39m \u001b[38;5;241m+\u001b[39m title \u001b[38;5;241m+\u001b[39m\u001b[38;5;124m\"\u001b[39m\u001b[38;5;130;01m\\n\u001b[39;00m\u001b[38;5;124m\"\u001b[39m \u001b[38;5;241m+\u001b[39msubject \n\u001b[1;32m----> 8\u001b[0m t\u001b[38;5;241m=\u001b[39m \u001b[43msmtp_object\u001b[49m\u001b[38;5;241m.\u001b[39msendmail(from_address,to_address,msg)\n\u001b[0;32m      9\u001b[0m \u001b[38;5;28mprint\u001b[39m(t)\n",
      "\u001b[1;31mNameError\u001b[0m: name 'smtp_object' is not defined"
     ]
    }
   ],
   "source": [
    "import smtplib\n",
    "import getpass\n",
    "from_address = getpass.getpass(\"Enter your email:\")\n",
    "to_address= getpass.getpass(\"Enter the recipient's email:\")\n",
    "title = input(\"Enter your title: \")\n",
    "subject = input(\"Enter your body message: \")\n",
    "msg = \"Title:\" + title +\"\\n\" +subject \n",
    "t= smtp_object.sendmail(from_address,to_address,msg)\n",
    "print(t)\n",
    "\n"
   ]
  }
 ],
 "metadata": {
  "kernelspec": {
   "display_name": "Python 3 (ipykernel)",
   "language": "python",
   "name": "python3"
  },
  "language_info": {
   "codemirror_mode": {
    "name": "ipython",
    "version": 3
   },
   "file_extension": ".py",
   "mimetype": "text/x-python",
   "name": "python",
   "nbconvert_exporter": "python",
   "pygments_lexer": "ipython3",
   "version": "3.9.12"
  }
 },
 "nbformat": 4,
 "nbformat_minor": 5
}
