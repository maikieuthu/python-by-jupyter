{
 "cells": [
  {
   "cell_type": "code",
   "execution_count": 23,
   "id": "c1f26af2",
   "metadata": {},
   "outputs": [
    {
     "data": {
      "text/plain": [
       "5"
      ]
     },
     "execution_count": 23,
     "metadata": {},
     "output_type": "execute_result"
    }
   ],
   "source": [
    "import PyPDF2\n",
    "#creating a f file:\n",
    "f= open(\"Working_Business_Proposal.pdf\",\"rb\")\n",
    "#creating a pdf reader\n",
    "pdf_reader=PyPDF2.PdfFileReader(f)\n",
    "#number of pages in pdf file\n",
    "pdf_reader.numPages"
   ]
  },
  {
   "cell_type": "code",
   "execution_count": 24,
   "id": "dbf3aa68",
   "metadata": {},
   "outputs": [
    {
     "name": "stdout",
     "output_type": "stream",
     "text": [
      "Bus in es s  Propos al\n",
      " \n",
      "The Revolution is Coming\n",
      " \n",
      "Leverage agile frameworks to provide a robust synopsis for high level \n",
      "overviews. Iterative approaches to corporate strategy foster collaborative \n",
      "thinking to fur ther the overall value proposition. Organically grow the \n",
      "holistic world view of disruptive innovation via workplace diversity and \n",
      "empower ment. \n",
      "Bring to the table win-win survival strategies to ensure proactive \n",
      "domination. At the end of the day, going forward, a new nor mal that has \n",
      "evolved from generation X is on the runway heading towards a streamlined \n",
      "cloud solution. User generated content in real-time will have multiple \n",
      "touchpoints for offshoring. \n",
      "Capitalize on low hanging fruit to identify a ballpark value added activity to \n",
      "beta test. Override the digital divide with additional clickthroughs from \n",
      "DevOps. Nanotechnology immersion along the infor mation highway will \n",
      "close the loop on focusing solely on the bottom line. \n",
      "Podcasting operational change management inside of workßows to \n",
      "establish a framework. Taking seamless key per for mance indicators ofßine \n",
      "to maximise the long tail. Keeping your eye on the ball while per for ming a \n",
      "deep dive on the star t-up mentality to derive convergence on cross-\n",
      "platfor m integration. \n",
      "C o l l a b o r a t i v e l y a d m i n i s t r a t e e m p o w e re d m a r k e t s v i a p l u g - a n d - p l a y \n",
      "networks. Dynamically procrastinate B2C users after installed base \n",
      "beneÞts. Dramatically visualize customer directed convergence without \n",
      "revolutionar y ROI. \n",
      "EfÞciently unleash cross-media infor mation without cross-media value. \n",
      "Quickly maximize timely deliverables for real-time schemas. Dramatically \n",
      "maintain clicks-and-mor tar solutions without functional solutions. \n",
      "BUSINESS PROPOSAL\n",
      "!\n",
      "1\n",
      "\n"
     ]
    }
   ],
   "source": [
    "#creating a page object\n",
    "pageoj=pdf_reader.getPage(0)\n",
    "# extracting text from page\n",
    "pageoj_get_text =pageoj.extract_text()\n",
    "print(pageoj_get_text)\n",
    "# closing the f file:\n",
    "f.close()"
   ]
  }
 ],
 "metadata": {
  "kernelspec": {
   "display_name": "Python 3 (ipykernel)",
   "language": "python",
   "name": "python3"
  },
  "language_info": {
   "codemirror_mode": {
    "name": "ipython",
    "version": 3
   },
   "file_extension": ".py",
   "mimetype": "text/x-python",
   "name": "python",
   "nbconvert_exporter": "python",
   "pygments_lexer": "ipython3",
   "version": "3.9.12"
  }
 },
 "nbformat": 4,
 "nbformat_minor": 5
}
