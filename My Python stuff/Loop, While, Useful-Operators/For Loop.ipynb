{
 "cells": [
  {
   "cell_type": "code",
   "execution_count": 6,
   "id": "b470cee9",
   "metadata": {},
   "outputs": [
    {
     "name": "stdout",
     "output_type": "stream",
     "text": [
      "start\n",
      "s\n",
      "sentence\n"
     ]
    }
   ],
   "source": [
    "#Use for, .split(), and if to create a Statement that will print out words that start with 's':\n",
    "st = 'Print only the words that start with s in this sentence'\n",
    "for i in st.split():\n",
    "   if i[0]==\"s\":\n",
    "    print (i)\n"
   ]
  },
  {
   "cell_type": "code",
   "execution_count": 8,
   "id": "e926733c",
   "metadata": {},
   "outputs": [
    {
     "name": "stdout",
     "output_type": "stream",
     "text": [
      "0\n",
      "2\n",
      "4\n",
      "6\n",
      "8\n",
      "10\n"
     ]
    }
   ],
   "source": [
    "#Use range() to print all the even numbers from 0 to 10.\n",
    "for i in range (0,11):\n",
    "    if i%2==0:\n",
    "     print(i)"
   ]
  },
  {
   "cell_type": "code",
   "execution_count": 9,
   "id": "1f3fb706",
   "metadata": {},
   "outputs": [
    {
     "name": "stdout",
     "output_type": "stream",
     "text": [
      "[3, 6, 9, 12, 15, 18, 21, 24, 27, 30, 33, 36, 39, 42, 45, 48]\n"
     ]
    }
   ],
   "source": [
    "#Create a list of all numbers between 1 and 50 that are divisible by 3 and print out list[]:\n",
    "list=[]\n",
    "for i in range(1,50):\n",
    "    if i%3==0:\n",
    "       list.append(i)\n",
    "print(list)\n"
   ]
  },
  {
   "cell_type": "code",
   "execution_count": 10,
   "id": "0a22676f",
   "metadata": {},
   "outputs": [
    {
     "name": "stdout",
     "output_type": "stream",
     "text": [
      "['C', 'a', 'l', 'o', 't', 'f', 'l', 'o', 'e', 'w', 'i', 't', 's']\n"
     ]
    }
   ],
   "source": [
    "# create a list of the first letters of every word in the string below print and print out list[]:\n",
    "st = 'Create a list of the first letters of every word in this string'\n",
    "list=[]\n",
    "for i in st.split():\n",
    "    list.append(i[0])\n",
    "print(list)"
   ]
  }
 ],
 "metadata": {
  "kernelspec": {
   "display_name": "Python 3 (ipykernel)",
   "language": "python",
   "name": "python3"
  },
  "language_info": {
   "codemirror_mode": {
    "name": "ipython",
    "version": 3
   },
   "file_extension": ".py",
   "mimetype": "text/x-python",
   "name": "python",
   "nbconvert_exporter": "python",
   "pygments_lexer": "ipython3",
   "version": "3.9.12"
  }
 },
 "nbformat": 4,
 "nbformat_minor": 5
}
